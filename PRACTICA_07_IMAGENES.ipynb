{
 "cells": [
  {
   "cell_type": "markdown",
   "metadata": {
    "id": "_HwmPYI7uF9d"
   },
   "source": [
    "**ESCUELA DE INGENIERÍA MECATRÓNICA**\n",
    "\n",
    "## `PROCESAMIENTO DIGITAL DE SEÑALES E IMÁGENES`\n",
    "\n",
    "### `Alumnos: `\n",
    "  ### `- PAREDES GUEVARA DARWIN`\n",
    "  ### `- QUINTANA RAMOS ENRIQUE FREUND`\n",
    "  ### `- VILLANUEVA ESQUIVEL WILLIAM`\n",
    "\n",
    "```\n",
    "PRACTICA 07:Filtrado en la frecuencia.\n",
    "```"
   ]
  },
  {
   "cell_type": "markdown",
   "metadata": {
    "id": "-Q8ByGyiuF9i"
   },
   "source": [
    "# <font color=#FF0000>OpenCV</color>\n",
    "\n",
    "* Mas de 2500 algoritmos optimizados\n",
    "\n",
    "* C/C++, Python, Java y MATLAB, soporta Windows, Linux, Android y Mac OS\n",
    "\n",
    "* Cuda y OpenCL (Actualmente en desarrollo)"
   ]
  },
  {
   "cell_type": "markdown",
   "metadata": {},
   "source": [
    "# <font color=#FF0000>RESULTADOS ESPERADOS DE LA EXPERIENCIA</color>"
   ]
  },
  {
   "cell_type": "markdown",
   "metadata": {},
   "source": [
    "## 1) Revise e implemente la interfaz basandose en el snippet de la pagina siguiente."
   ]
  },
  {
   "cell_type": "code",
   "execution_count": 35,
   "metadata": {
    "ExecuteTime": {
     "end_time": "2023-10-02T14:31:22.487773Z",
     "start_time": "2023-10-02T14:31:21.066051Z"
    },
    "id": "RcZTJnk4uF9j"
   },
   "outputs": [],
   "source": [
    "# Importamos las librerías:\n",
    "import tkinter as tk\n",
    "from PIL import Image, ImageTk\n",
    "import numpy as np\n",
    "import cv2"
   ]
  },
  {
   "cell_type": "code",
   "execution_count": 36,
   "metadata": {},
   "outputs": [],
   "source": [
    "import cv2\n",
    "import tkinter as tk\n",
    "from PIL import Image, ImageTk\n",
    "\n",
    "def escalar_imagen(image, max_width):\n",
    "    original_height, original_width = image.shape[:2]  # Obtener las dimensiones de la imagen correctamente\n",
    "    ratio = max_width / original_width\n",
    "    height = int(original_height * ratio)\n",
    "    return cv2.resize(image, (max_width, height))\n",
    "\n",
    "def mostrar_imagen(image, label, max_width):\n",
    "    imagen_resized = escalar_imagen(image, max_width)\n",
    "    imagen_tk = ImageTk.PhotoImage(image=Image.fromarray(imagen_resized))\n",
    "    label.config(image=imagen_tk)\n",
    "    label.image = imagen_tk\n",
    "\n",
    "def actualizar_filtro(valor):\n",
    "    mostrar_imagen(img, label_matriz, 300)\n",
    "    mostrar_imagen(img, label_g_real, 300)\n",
    "\n",
    "image_path = '/IMAGENES_VIRTUAL/practicas/Imagenes/cachorro1.jpg'  # Ruta de la imagen a mostrar\n",
    "img = cv2.imread(image_path, cv2.IMREAD_GRAYSCALE)  # Lee la imagen en escala de grises\n",
    "\n",
    "ventana = tk.Tk()  # Cambiado a tk.Tk() para la ventana principal\n",
    "ventana.title(\"Mostrar Imagen y Matriz con Tkinter\")\n",
    "\n",
    "label_imagen = tk.Label(ventana)\n",
    "mostrar_imagen(img, label_imagen, 300)\n",
    "label_imagen.grid(row=0, column=0, padx=10, pady=10)\n",
    "\n",
    "label_matriz = tk.Label(ventana)\n",
    "label_matriz.grid(row=0, column=1, padx=10, pady=10)\n",
    "\n",
    "label_g_real = tk.Label(ventana)\n",
    "label_g_real.grid(row=0, column=2, padx=10, pady=10)\n",
    "\n",
    "slider_n = tk.Scale(ventana, from_=0, to=1, resolution=0.1, orient=tk.HORIZONTAL,\n",
    "                    label=\"Valor de n\", command=actualizar_filtro)\n",
    "slider_n.set(2)\n",
    "slider_n.grid(row=1, column=0, columnspan=3, pady=10)\n",
    "\n",
    "ventana.mainloop()\n"
   ]
  },
  {
   "cell_type": "markdown",
   "metadata": {},
   "source": [
    "## 2) Implemente un algoritmo que le permita tener una interfaz con un slider para controlar el nivel de suavizado de una imagen. El slider controlara el tamaño del filtro frecuencia que se aplicará. Puede aplicar cualquiera de los filtros pasabajos mostrados. Se debe poder ver la imagen original, el filtro frecuencial aplicado y el resultado."
   ]
  },
  {
   "cell_type": "code",
   "execution_count": 37,
   "metadata": {},
   "outputs": [],
   "source": [
    "import cv2\n",
    "import tkinter as tk\n",
    "import numpy as np\n",
    "from PIL import Image, ImageTk\n",
    "\n",
    "def escalar_imagen(image, max_width):\n",
    "    original_height, original_width = image.shape[:2]\n",
    "    ratio = max_width / original_width\n",
    "    height = int(original_height * ratio)\n",
    "    return cv2.resize(image, (max_width, height), interpolation=cv2.INTER_AREA)\n",
    "\n",
    "def mostrar_imagen(image, label, max_width):\n",
    "    imagen_resized = escalar_imagen(image, max_width)\n",
    "    imagen_tk = ImageTk.PhotoImage(image=Image.fromarray(imagen_resized))\n",
    "    label.config(image=imagen_tk)\n",
    "    label.image = imagen_tk\n",
    "\n",
    "def filtro(img, tam):\n",
    "    fil, col = img.shape\n",
    "    img_padded = np.pad(img, ((0, fil), (0, col)), 'constant', constant_values=((0, 0), (0, 0)))\n",
    "\n",
    "    f, c = np.ogrid[0:2*fil, 0:2*col]\n",
    "    D = np.sqrt((f - fil)**2 + (c - col)**2)\n",
    "    D0 = (tam * fil)\n",
    "    H_pa_gauss = np.exp(-(D**2) / (2 * (D0**2)))\n",
    "\n",
    "    img_fft = np.fft.fft2(img_padded)\n",
    "    img_fft_shift = np.fft.fftshift(img_fft)\n",
    "\n",
    "    G_fft = img_fft_shift * H_pa_gauss\n",
    "\n",
    "    G_fft_ishift = np.fft.ifftshift(G_fft)\n",
    "    g = np.fft.ifft2(G_fft_ishift)\n",
    "    g_real = np.real(g)[0:fil, 0:col]\n",
    "\n",
    "    return H_pa_gauss * 255, g_real\n",
    "\n",
    "def actualizar_filtro(valor):\n",
    "    img_H, img_g = filtro(img, float(valor))\n",
    "    mostrar_imagen(img_H, label_matriz, 300)\n",
    "    mostrar_imagen(img_g, label_g_real, 300)\n",
    "\n",
    "image_path = '/IMAGENES_VIRTUAL/practicas/Imagenes/cachorro1.jpg'  # Cambiar la ruta de la imagen\n",
    "img = cv2.imread(image_path, cv2.IMREAD_GRAYSCALE)\n",
    "\n",
    "ventana = tk.Tk()\n",
    "ventana.title(\"Mostrar Imagen con filtro en Tkinter\")\n",
    "\n",
    "label_imagen = tk.Label(ventana)\n",
    "mostrar_imagen(img, label_imagen, 300)\n",
    "label_imagen.grid(row=0, column=0, padx=10, pady=10)\n",
    "\n",
    "label_matriz = tk.Label(ventana)\n",
    "label_matriz.grid(row=0, column=1, padx=10, pady=10)\n",
    "\n",
    "label_g_real = tk.Label(ventana)\n",
    "label_g_real.grid(row=0, column=2, padx=10, pady=10)\n",
    "\n",
    "slider_n = tk.Scale(ventana, from_=0.1, to=1, resolution=0.1, orient=tk.HORIZONTAL,\n",
    "                    label=\"Valor de n\", command=actualizar_filtro)\n",
    "slider_n.set(1)\n",
    "slider_n.grid(row=1, column=0, columnspan=3, pady=10)\n",
    "\n",
    "ventana.protocol(\"WM_DELETE_WINDOW\", ventana.destroy)  # Manejo de evento de cierre de la ventana\n",
    "ventana.mainloop()\n"
   ]
  },
  {
   "cell_type": "markdown",
   "metadata": {},
   "source": [
    "## 3) Implemente un algoritmo que le permita tener una interfaz para controlar la ganancia y tamaño de un filtro de alto aumento. Se debe poder ver la imagen original, el filtro frecuencial aplicado y el resultad."
   ]
  },
  {
   "cell_type": "code",
   "execution_count": null,
   "metadata": {},
   "outputs": [],
   "source": []
  },
  {
   "cell_type": "code",
   "execution_count": 38,
   "metadata": {},
   "outputs": [],
   "source": [
    "import cv2\n",
    "import tkinter as tk\n",
    "import numpy as np\n",
    "from PIL import Image, ImageTk\n",
    "\n",
    "def resize_image(image, max_width):\n",
    "    original_height, original_width = image.shape[:2]\n",
    "    ratio = max_width / original_width\n",
    "    height = int(original_height * ratio)\n",
    "    return cv2.resize(image, (max_width, height))\n",
    "\n",
    "def display_image(image, label, max_width):\n",
    "    resized_image = resize_image(image, max_width)\n",
    "    image_tk = ImageTk.PhotoImage(image=Image.fromarray(resized_image))\n",
    "    label.config(image=image_tk)\n",
    "    label.image = image_tk\n",
    "\n",
    "def frequency_filter(img, tam, frec):\n",
    "    fil, col = img.shape\n",
    "    img_padded = np.pad(img, ((0, fil), (0, col)), 'constant', constant_values=((0, 0), (0, 0)))\n",
    "\n",
    "    f, c = np.ogrid[0:2*fil, 0:2*col]\n",
    "\n",
    "    D = np.sqrt((f - fil)**2 + (c - col)**2)\n",
    "    D0 = tam * fil\n",
    "    H_highpass_gauss = 1 - np.exp(-(D**2) / (2 * (D0**2)))\n",
    "\n",
    "    H_combined_gauss = (frec - 1) + H_highpass_gauss\n",
    "\n",
    "    img_fft = np.fft.fft2(img_padded)\n",
    "    img_fft_shift = np.fft.fftshift(img_fft)\n",
    "\n",
    "    G_fft = img_fft_shift * H_combined_gauss\n",
    "\n",
    "    G_fft_ishift = np.fft.ifftshift(G_fft)\n",
    "    g = np.fft.ifft2(G_fft_ishift)\n",
    "    g_real = np.real(g)[0:fil, 0:col]\n",
    "\n",
    "    return H_combined_gauss * 255, g_real\n",
    "\n",
    "def update_filter(value):\n",
    "    img_H, img_g = frequency_filter(img, float(slider_n.get()), float(slider_n1.get()))\n",
    "    display_image(img_H, label_matrix, 300)\n",
    "    display_image(img_g, label_g_real, 300)\n",
    "\n",
    "# Manejo de errores para cargar la imagen\n",
    "try:\n",
    "    image_path = '/IMAGENES_VIRTUAL/practicas/Imagenes/cachorro1.jpg' \n",
    "    img = cv2.imread(image_path, cv2.IMREAD_GRAYSCALE)\n",
    "\n",
    "    if img is None:\n",
    "        raise FileNotFoundError(f\"No se pudo cargar la imagen en la ruta: {image_path}\")\n",
    "\n",
    "    window = tk.Tk()\n",
    "    window.title(\"Mostrar Imagen y Matriz con Tkinter\")\n",
    "\n",
    "    label_image = tk.Label(window)\n",
    "    display_image(img, label_image, 300)\n",
    "    label_image.grid(row=0, column=0, padx=10, pady=10)\n",
    "\n",
    "    label_matrix = tk.Label(window)\n",
    "    label_matrix.grid(row=0, column=1, padx=10, pady=10)\n",
    "\n",
    "    label_g_real = tk.Label(window)\n",
    "    label_g_real.grid(row=0, column=2, padx=10, pady=10)\n",
    "\n",
    "    slider_n = tk.Scale(window, from_=0.1, to=1, resolution=0.1, orient=tk.HORIZONTAL,\n",
    "                        label=\"Valor de n\", command=update_filter)\n",
    "    slider_n.set(0.1)\n",
    "    slider_n.grid(row=1, column=0, columnspan=2, pady=10)\n",
    "\n",
    "    slider_n1 = tk.Scale(window, from_=0.1, to=3, resolution=0.1, orient=tk.HORIZONTAL,\n",
    "                        label=\"Valor de frec\", command=update_filter)\n",
    "    slider_n1.set(1.5)\n",
    "    slider_n1.grid(row=1, column=1, columnspan=2, pady=10)\n",
    "\n",
    "    window.mainloop()\n",
    "\n",
    "except Exception as e:\n",
    "    print(f\"Error: {e}\")\n"
   ]
  },
  {
   "cell_type": "code",
   "execution_count": null,
   "metadata": {},
   "outputs": [],
   "source": []
  }
 ],
 "metadata": {
  "colab": {
   "name": "Practica 06 - Introducción a OpenCV - Operaciones de punto.ipynb",
   "provenance": []
  },
  "kernelspec": {
   "display_name": "Python 3",
   "language": "python",
   "name": "python3"
  },
  "language_info": {
   "codemirror_mode": {
    "name": "ipython",
    "version": 3
   },
   "file_extension": ".py",
   "mimetype": "text/x-python",
   "name": "python",
   "nbconvert_exporter": "python",
   "pygments_lexer": "ipython3",
   "version": "3.6.6"
  },
  "varInspector": {
   "cols": {
    "lenName": 16,
    "lenType": 16,
    "lenVar": 40
   },
   "kernels_config": {
    "python": {
     "delete_cmd_postfix": "",
     "delete_cmd_prefix": "del ",
     "library": "var_list.py",
     "varRefreshCmd": "print(var_dic_list())"
    },
    "r": {
     "delete_cmd_postfix": ") ",
     "delete_cmd_prefix": "rm(",
     "library": "var_list.r",
     "varRefreshCmd": "cat(var_dic_list()) "
    }
   },
   "types_to_exclude": [
    "module",
    "function",
    "builtin_function_or_method",
    "instance",
    "_Feature"
   ],
   "window_display": false
  }
 },
 "nbformat": 4,
 "nbformat_minor": 1
}
